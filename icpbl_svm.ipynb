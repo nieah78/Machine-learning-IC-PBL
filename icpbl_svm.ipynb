{
  "nbformat": 4,
  "nbformat_minor": 0,
  "metadata": {
    "colab": {
      "provenance": []
    },
    "kernelspec": {
      "name": "python3",
      "display_name": "Python 3"
    },
    "language_info": {
      "name": "python"
    }
  },
  "cells": [
    {
      "cell_type": "code",
      "execution_count": 1,
      "metadata": {
        "colab": {
          "base_uri": "https://localhost:8080/"
        },
        "id": "IM4XwRAdCxAg",
        "outputId": "6a2d6647-5645-4e6c-bd2f-03c8525cd8df"
      },
      "outputs": [
        {
          "output_type": "stream",
          "name": "stdout",
          "text": [
            "  Model  Accuracy  Precision    Recall        F1   ROC-AUC\n",
            "0   SVM  0.937221    0.94718  0.925455  0.936192  0.937166\n"
          ]
        }
      ],
      "source": [
        "import pandas as pd\n",
        "from sklearn.model_selection import train_test_split, GridSearchCV\n",
        "from sklearn.preprocessing import StandardScaler\n",
        "from sklearn.svm import SVC\n",
        "from sklearn.metrics import accuracy_score, precision_score, recall_score, f1_score, roc_auc_score\n",
        "\n",
        "# 데이터 읽기\n",
        "normal_df = pd.read_csv(\"normal.csv\")\n",
        "abnormal_df = pd.read_csv(\"abnormal.csv\")\n",
        "\n",
        "# 데이터 병합\n",
        "df = pd.concat([normal_df, abnormal_df], ignore_index=True)\n",
        "\n",
        "# 특성과 레이블 분리\n",
        "X = df.drop([\"class\", \"motor_id\"], axis=1)\n",
        "y = df[\"class\"]\n",
        "\n",
        "# 데이터 정규화\n",
        "scaler = StandardScaler()\n",
        "X_scaled = scaler.fit_transform(X)\n",
        "\n",
        "# 학습과 테스트 데이터로 분할\n",
        "X_train, X_test, y_train, y_test = train_test_split(\n",
        "    X_scaled, y, test_size=0.2, stratify=y, random_state=1\n",
        ")\n",
        "\n",
        "# SVM 모델 정의\n",
        "svm_model = SVC(probability=True)\n",
        "\n",
        "# Hyper-parameter 그리드 서치 설정 (범위 축소)\n",
        "param_grid = {\n",
        "    \"C\": [0.1, 1, 10],\n",
        "    \"gamma\": [0.1, 1, 10],\n",
        "}\n",
        "\n",
        "# GridSearchCV를 사용하여 최적의 hyper-parameters 찾기\n",
        "svm_grid_search = GridSearchCV(svm_model, param_grid, scoring=\"roc_auc\", cv=5)\n",
        "svm_grid_search.fit(X_train, y_train)\n",
        "\n",
        "# 최적의 hyper-parameters를 사용하여 SVM 모델 학습\n",
        "best_svm_model = svm_grid_search.best_estimator_\n",
        "svm_y_pred = best_svm_model.predict(X_test)\n",
        "\n",
        "# 성능 측정\n",
        "accuracy = accuracy_score(y_test, svm_y_pred)\n",
        "precision = precision_score(y_test, svm_y_pred)\n",
        "recall = recall_score(y_test, svm_y_pred)\n",
        "f1 = f1_score(y_test, svm_y_pred)\n",
        "roc_auc = roc_auc_score(y_test, svm_y_pred)\n",
        "\n",
        "# 결과 DataFrame 생성\n",
        "svm_results_df = pd.DataFrame({\n",
        "    'Model': ['SVM'],\n",
        "    'Accuracy': [accuracy],\n",
        "    'Precision': [precision],\n",
        "    'Recall': [recall],\n",
        "    'F1': [f1],\n",
        "    'ROC-AUC': [roc_auc]\n",
        "})\n",
        "\n",
        "# 결과 출력\n",
        "print(svm_results_df)\n"
      ]
    },
    {
      "cell_type": "code",
      "source": [
        "# 최적의 hyper-parameters 출력\n",
        "best_params = svm_grid_search.best_params_\n",
        "print(\"Best Hyperparameters for SVM:\", best_params)"
      ],
      "metadata": {
        "colab": {
          "base_uri": "https://localhost:8080/"
        },
        "id": "bwgBjdmRC2Vr",
        "outputId": "cfa5f989-8df1-491f-d8fd-d2c654971be1"
      },
      "execution_count": 2,
      "outputs": [
        {
          "output_type": "stream",
          "name": "stdout",
          "text": [
            "Best Hyperparameters for SVM: {'C': 10, 'gamma': 0.1}\n"
          ]
        }
      ]
    },
    {
      "cell_type": "code",
      "source": [],
      "metadata": {
        "id": "ao30wB2zfas0"
      },
      "execution_count": null,
      "outputs": []
    }
  ]
}