{
  "nbformat": 4,
  "nbformat_minor": 0,
  "metadata": {
    "colab": {
      "provenance": []
    },
    "kernelspec": {
      "name": "python3",
      "display_name": "Python 3"
    },
    "language_info": {
      "name": "python"
    }
  },
  "cells": [
    {
      "cell_type": "code",
      "execution_count": 3,
      "metadata": {
        "colab": {
          "base_uri": "https://localhost:8080/"
        },
        "id": "IJQEdv78ec_o",
        "outputId": "47c0f2dd-8ce2-430d-b39b-f42f6d679b66"
      },
      "outputs": [
        {
          "output_type": "stream",
          "name": "stdout",
          "text": [
            "                 Model  Accuracy  Precision    Recall        F1   ROC-AUC\n",
            "0  Logistic Regression  0.828864   0.764250  0.947358  0.846009  0.829751\n",
            "1        Decision Tree  0.801053   0.742584  0.916934  0.820600  0.801921\n",
            "2        Random Forest  0.802245   0.745627  0.912930  0.820840  0.803074\n"
          ]
        }
      ],
      "source": [
        "import pandas as pd\n",
        "from sklearn.model_selection import train_test_split\n",
        "from sklearn.preprocessing import StandardScaler\n",
        "from sklearn.linear_model import LogisticRegression\n",
        "from sklearn.tree import DecisionTreeClassifier\n",
        "from sklearn.ensemble import RandomForestClassifier\n",
        "from sklearn.metrics import accuracy_score, precision_score, recall_score, f1_score, roc_auc_score\n",
        "\n",
        "# 데이터 읽기\n",
        "normal_df = pd.read_csv(\"normal.csv\")\n",
        "abnormal_df = pd.read_csv(\"abnormal.csv\")\n",
        "\n",
        "# 데이터 병합\n",
        "df = pd.concat([normal_df, abnormal_df], ignore_index=True)\n",
        "\n",
        "# 특성과 레이블 분리\n",
        "X = df.drop([\"class\", \"motor_id\"], axis=1)\n",
        "y = df[\"class\"]\n",
        "\n",
        "# 데이터 정규화\n",
        "scaler = StandardScaler()\n",
        "X_scaled = scaler.fit_transform(X)\n",
        "\n",
        "# 모터 ID를 기준으로 훈련 데이터와 테스트 데이터 나누기\n",
        "X_train = X[df['motor_id'].between(1, 36)]\n",
        "y_train = y[df['motor_id'].between(1, 36)]\n",
        "X_test = X[df['motor_id'].between(37, 48)]\n",
        "y_test = y[df['motor_id'].between(37, 48)]\n",
        "\n",
        "# 데이터 정규화\n",
        "X_train_scaled = scaler.transform(X_train)\n",
        "X_test_scaled = scaler.transform(X_test)\n",
        "\n",
        "# 모델별 성능 출력\n",
        "models = {\n",
        "    \"Logistic Regression\": LogisticRegression(),\n",
        "    \"Decision Tree\": DecisionTreeClassifier(),\n",
        "    \"Random Forest\": RandomForestClassifier()\n",
        "}\n",
        "\n",
        "results = []\n",
        "\n",
        "for model_name, model in models.items():\n",
        "    model.fit(X_train_scaled, y_train)\n",
        "    y_pred = model.predict(X_test_scaled)\n",
        "\n",
        "    # 성능별로 검사\n",
        "    accuracy = accuracy_score(y_test, y_pred)\n",
        "    precision = precision_score(y_test, y_pred)\n",
        "    recall = recall_score(y_test, y_pred)\n",
        "    f1 = f1_score(y_test, y_pred)\n",
        "    roc_auc = roc_auc_score(y_test, y_pred)\n",
        "\n",
        "    # 검사 결과를 results로 전송하기\n",
        "    results.append({\n",
        "        'Model': model_name,\n",
        "        'Accuracy': accuracy,\n",
        "        'Precision': precision,\n",
        "        'Recall': recall,\n",
        "        'F1': f1,\n",
        "        'ROC-AUC': roc_auc\n",
        "    })\n",
        "\n",
        "# 결과 출력\n",
        "results_df = pd.DataFrame(results)\n",
        "print(results_df)\n"
      ]
    },
    {
      "cell_type": "code",
      "source": [],
      "metadata": {
        "id": "xYXDOInXftqh"
      },
      "execution_count": null,
      "outputs": []
    }
  ]
}