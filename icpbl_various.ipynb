{
  "nbformat": 4,
  "nbformat_minor": 0,
  "metadata": {
    "colab": {
      "provenance": []
    },
    "kernelspec": {
      "name": "python3",
      "display_name": "Python 3"
    },
    "language_info": {
      "name": "python"
    }
  },
  "cells": [
    {
      "cell_type": "code",
      "execution_count": 6,
      "metadata": {
        "colab": {
          "base_uri": "https://localhost:8080/"
        },
        "id": "ysBMGYOn-rjO",
        "outputId": "c4bf1129-83ae-4ee8-e811-76ed64d04427"
      },
      "outputs": [
        {
          "output_type": "stream",
          "name": "stdout",
          "text": [
            "                 Model  Accuracy  Precision    Recall        F1   ROC-AUC\n",
            "0  Logistic Regression  0.889330   0.890754  0.886313  0.888528  0.889316\n",
            "1        Decision Tree  0.950993   0.948858  0.952880  0.950865  0.951001\n",
            "2        Random Forest  0.961787   0.962066  0.961107  0.961586  0.961783\n"
          ]
        }
      ],
      "source": [
        "import pandas as pd\n",
        "from sklearn.model_selection import train_test_split\n",
        "from sklearn.preprocessing import StandardScaler\n",
        "from sklearn.linear_model import LogisticRegression\n",
        "from sklearn.tree import DecisionTreeClassifier\n",
        "from sklearn.ensemble import RandomForestClassifier\n",
        "from sklearn.metrics import accuracy_score, precision_score, recall_score, f1_score, roc_auc_score\n",
        "\n",
        "# 데이터 읽기\n",
        "normal_df = pd.read_csv(\"normal.csv\")\n",
        "abnormal_df = pd.read_csv(\"abnormal.csv\")\n",
        "\n",
        "# 데이터 병합\n",
        "df = pd.concat([normal_df, abnormal_df], ignore_index=True)\n",
        "\n",
        "# 특성과 레이블 분리\n",
        "X = df.drop([\"class\", \"motor_id\"], axis=1)\n",
        "y = df[\"class\"]\n",
        "\n",
        "# 데이터 정규화\n",
        "scaler = StandardScaler()\n",
        "X_scaled = scaler.fit_transform(X)\n",
        "\n",
        "# 학습과 테스트 데이터로 분할\n",
        "X_train, X_test, y_train, y_test = train_test_split(\n",
        "    X_scaled, y, test_size=0.2, stratify=y, random_state=1\n",
        ")\n",
        "\n",
        "# 모델 학습 및 성능 측정\n",
        "models = {\n",
        "    \"Logistic Regression\": LogisticRegression(),\n",
        "    \"Decision Tree\": DecisionTreeClassifier(),\n",
        "    \"Random Forest\": RandomForestClassifier()\n",
        "}\n",
        "\n",
        "results = []\n",
        "\n",
        "for model_name, model in models.items():\n",
        "    # 학습\n",
        "    model.fit(X_train, y_train)\n",
        "\n",
        "    # 예측\n",
        "    y_pred = model.predict(X_test)\n",
        "\n",
        "    # 성능 측정\n",
        "    accuracy = accuracy_score(y_test, y_pred)\n",
        "    precision = precision_score(y_test, y_pred)\n",
        "    recall = recall_score(y_test, y_pred)\n",
        "    f1 = f1_score(y_test, y_pred)\n",
        "    roc_auc = roc_auc_score(y_test, y_pred)\n",
        "\n",
        "    # 결과 저장\n",
        "    results.append({\n",
        "        'Model': model_name,\n",
        "        'Accuracy': accuracy,\n",
        "        'Precision': precision,\n",
        "        'Recall': recall,\n",
        "        'F1': f1,\n",
        "        'ROC-AUC': roc_auc\n",
        "    })\n",
        "\n",
        "# 결과 DataFrame 생성\n",
        "results_df = pd.DataFrame(results)\n",
        "\n",
        "# 결과 출력\n",
        "print(results_df)\n"
      ]
    },
    {
      "cell_type": "code",
      "source": [],
      "metadata": {
        "id": "7P1fjMnJ-3VQ"
      },
      "execution_count": null,
      "outputs": []
    }
  ]
}